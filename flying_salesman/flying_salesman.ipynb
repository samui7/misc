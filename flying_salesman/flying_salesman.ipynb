{
 "cells": [
  {
   "cell_type": "markdown",
   "metadata": {},
   "source": [
    "## The Flying Salesman\n",
    "###  - A Time-dependent Traveling Salesman Problem"
   ]
  },
  {
   "cell_type": "markdown",
   "metadata": {},
   "source": [
    "Reference: https://github.com/rhiever/Data-Analysis-and-Machine-Learning-Projects/tree/master/optimal-road-trip \n",
    "\n",
    "#### The scenario - \n",
    "The traveling salesman has to visit a number of destinations by air. Unlike the traditional TSP, as the flight ticket price changes, the edge costs varies depending on their positions in the tour. Presented below is a solution to this problem using a genetic algorithm.\n",
    "\n",
    "#### The inputs -\n",
    "1. a list of destinations\n",
    "2. a list representing the number of nights to stay at each destination\n"
   ]
  },
  {
   "cell_type": "code",
   "execution_count": 22,
   "metadata": {},
   "outputs": [
    {
     "name": "stdout",
     "output_type": "stream",
     "text": [
      "37\n"
     ]
    }
   ],
   "source": [
    "from array import *\n",
    "import random\n",
    "\n",
    "destinations = ['dest_a', 'dest_b', 'dest_c', 'dest_d', 'dest_e', 'dest_f', 'dest_g', 'dest_h', 'dest_i', 'dest_j',\n",
    "                'dest_k', 'dest_l', 'dest_m', 'dest_n', 'dest_o']\n",
    "num_of_nights_to_stay = [3, 2, 1, 4, 2, 4, 2, 5, 1, 1, 2, 2, 1, 4, 3]\n",
    "total_nights = sum(num_of_nights_to_stay)\n",
    "\n",
    "print(total_nights)"
   ]
  },
  {
   "cell_type": "code",
   "execution_count": 23,
   "metadata": {},
   "outputs": [
    {
     "name": "stdout",
     "output_type": "stream",
     "text": [
      "\n",
      "from 2 to 3 prices\n",
      "[259, 311, 289, 228, 179, 271, 216, 260, 159, 321, 258, 230, 155, 266, 290, 232, 312, 283, 231, 221, 266, 169, 208, 141, 158, 148, 296, 250, 240, 278, 242, 321, 149, 174, 306, 182, 230, 193]\n"
     ]
    }
   ],
   "source": [
    "# The most time-consuming part of the algorithm. We want one-way flight fares between each pair of destinations for \n",
    "#   every day through the duration of the entire tour. In practice, this will be done by web scraping. \n",
    "#   Here we generate some random data to manipulate.\n",
    "\n",
    "# a 3-d array, flight_fare[x][y][z] is the flight price from destinations[x] to destinations[y] on day z\n",
    "flight_fares = []\n",
    "\n",
    "for x in range(0, len(destinations)):\n",
    "    \n",
    "    from_x = []\n",
    "    \n",
    "    for y in range(0, len(destinations)):\n",
    "        \n",
    "        from_x_to_y = []\n",
    "        # to be more realistic\n",
    "        # assume that the flight price from x to y varies within 40% of an \"average\" value over the days\n",
    "        # further assume that the average is a multiple of 10 between 50 and 250\n",
    "        from_x_to_y_average = 10 * random.randint(5,25)\n",
    "        from_x_to_y_lower_bound = int(0.6 * from_x_to_y_average)\n",
    "        from_x_to_y_upper_bound = int(1.4 * from_x_to_y_average)\n",
    "        \n",
    "        # print('from ' + str(x) + ' to ' + str(y) + ' average is ' + str(from_x_to_y_average))\n",
    "        \n",
    "        for z in range(0, total_nights + 1):\n",
    "            from_x_to_y.append(random.randint(from_x_to_y_lower_bound, from_x_to_y_upper_bound))\n",
    "        \n",
    "        from_x.append(from_x_to_y)\n",
    "    \n",
    "    flight_fares.append(from_x)\n",
    "\n",
    "# NOTE: flight_fare[x][x][z] doesn't make sense because it stands for the price from x to x.\n",
    "# We could set all such values to be infinity, but here we choose to ignore them since they won't cause any problems. \n",
    "\n",
    "print(\"\\nfrom 2 to 3 prices\")\n",
    "print(flight_fares[2][3])           "
   ]
  },
  {
   "cell_type": "code",
   "execution_count": 24,
   "metadata": {},
   "outputs": [],
   "source": [
    "import numpy\n",
    "# use a genetic algorithm to optimize the order of visiting the destinations\n",
    "\n",
    "def compute_fitness(solution):\n",
    "    # the fitness function for the genetic algorithm\n",
    "    # the fitness is the cost of a given solution\n",
    "    cost = 0\n",
    "    day = 0\n",
    "    for i in range(0, len(solution)-1):\n",
    "        day += num_of_nights_to_stay[solution[i]]\n",
    "        cost += flight_fares[solution[i]][solution[i+1]][day]\n",
    "    # add the cost of returning to the start from the last destination\n",
    "    day += num_of_nights_to_stay[solution[-1]]\n",
    "    cost += flight_fares[solution[-1]][solution[0]][day]\n",
    "    \n",
    "    return cost\n",
    "\n",
    "\n",
    "def generate_random_solution():\n",
    "    # generate a random solution that represents the order of visiting the destinations\n",
    "    # for example, [3, 1, 2, 0] means visiting in the order destinations[3] -> [1] -> [2] -> [0]\n",
    "    random_solution = list(range(0, len(destinations)))\n",
    "    random.shuffle(random_solution)\n",
    "    return tuple(random_solution)\n",
    "    \n",
    "\n",
    "def mutate_solution(solution, max_mutations):\n",
    "    # apply up to max_mutations mutations to each solution\n",
    "    # for each mutation, randomly swap the position of two elements in a given solution\n",
    "    solution = list(solution)\n",
    "    num_of_mutations = random.randint(0, max_mutations)\n",
    "    \n",
    "    for i in range(max_mutations):\n",
    "        index1 = random.randint(0, len(solution)-1)\n",
    "        index2 = random.randint(0, len(solution)-1)\n",
    "        while index1 == index2:\n",
    "            index2 = random.randint(0, len(solution)-1)\n",
    "        solution[index1], solution[index2] = solution[index2], solution[index1]\n",
    "    return tuple(solution)\n",
    "\n",
    "\n",
    "def generate_random_population(population_size):\n",
    "    # generate a population of random solutions\n",
    "    population = []\n",
    "    for i in range(0, population_size):\n",
    "        population.append(generate_random_solution())\n",
    "    return population\n",
    "\n",
    "\n",
    "def run(generations, population_size):\n",
    "    \n",
    "    # generations and population_size should be multiples of 10\n",
    "    population_subset_size = int(population_size / 10.)\n",
    "    generations_10pct = int(generations / 10.)\n",
    "    \n",
    "    # generate a population of random solutions\n",
    "    population = generate_random_population(population_size)\n",
    "    \n",
    "    for generation in range(0, generations):\n",
    "        \n",
    "        # compute the fitness of each solution in the current population\n",
    "        population_fitness = {}\n",
    "        for solution in population:\n",
    "            if solution in population_fitness:\n",
    "                continue\n",
    "            population_fitness[solution] = compute_fitness(solution)\n",
    "    \n",
    "        # take the top 10% solutions and produce offspring from them\n",
    "        new_population = []\n",
    "        for rank, solution in enumerate(sorted(population_fitness,\n",
    "                                                   key=population_fitness.get)[:population_subset_size]):\n",
    "            \n",
    "            # show the current optimal solution\n",
    "            if (generation % generations_10pct == 0 or generation == generations - 1) and rank == 0:\n",
    "                print(\"Generation %d best: %d | Unique solutions: %d\" % (generation,\n",
    "                                                                       population_fitness[solution],\n",
    "                                                                       len(population_fitness)))\n",
    "                print(tuple([destinations[i] for i in solution]))\n",
    "                print(\"\")\n",
    "            \n",
    "            # the top 10% themselves should be included in the new population\n",
    "            new_population.append(solution)\n",
    "            \n",
    "            # produce 9 offspring with up to 3 mutations for each solution\n",
    "            for i in range(0, 9):\n",
    "                new_population.append(mutate_solution(solution, 3))\n",
    "            \n",
    "        # Replace the old population with the new population of offspring \n",
    "        for i in range(len(population))[::-1]:\n",
    "            del population[i]\n",
    "        population = new_population"
   ]
  },
  {
   "cell_type": "code",
   "execution_count": 29,
   "metadata": {},
   "outputs": [
    {
     "name": "stdout",
     "output_type": "stream",
     "text": [
      "Generation 0 best: 1399 | Unique solutions: 100\n",
      "('dest_c', 'dest_i', 'dest_m', 'dest_d', 'dest_l', 'dest_k', 'dest_f', 'dest_g', 'dest_h', 'dest_e', 'dest_n', 'dest_o', 'dest_a', 'dest_b', 'dest_j')\n",
      "\n",
      "Generation 10 best: 1316 | Unique solutions: 100\n",
      "('dest_i', 'dest_o', 'dest_j', 'dest_n', 'dest_e', 'dest_a', 'dest_b', 'dest_m', 'dest_l', 'dest_d', 'dest_k', 'dest_h', 'dest_f', 'dest_g', 'dest_c')\n",
      "\n",
      "Generation 20 best: 1246 | Unique solutions: 100\n",
      "('dest_i', 'dest_a', 'dest_d', 'dest_k', 'dest_h', 'dest_o', 'dest_b', 'dest_l', 'dest_m', 'dest_j', 'dest_n', 'dest_e', 'dest_f', 'dest_g', 'dest_c')\n",
      "\n",
      "Generation 30 best: 1165 | Unique solutions: 100\n",
      "('dest_c', 'dest_i', 'dest_g', 'dest_h', 'dest_n', 'dest_k', 'dest_e', 'dest_o', 'dest_f', 'dest_j', 'dest_a', 'dest_l', 'dest_d', 'dest_m', 'dest_b')\n",
      "\n",
      "Generation 40 best: 1165 | Unique solutions: 99\n",
      "('dest_c', 'dest_i', 'dest_g', 'dest_h', 'dest_n', 'dest_k', 'dest_e', 'dest_o', 'dest_f', 'dest_j', 'dest_a', 'dest_l', 'dest_d', 'dest_m', 'dest_b')\n",
      "\n",
      "Generation 50 best: 1106 | Unique solutions: 100\n",
      "('dest_c', 'dest_i', 'dest_g', 'dest_h', 'dest_e', 'dest_k', 'dest_n', 'dest_l', 'dest_d', 'dest_m', 'dest_a', 'dest_b', 'dest_j', 'dest_o', 'dest_f')\n",
      "\n",
      "Generation 60 best: 1106 | Unique solutions: 100\n",
      "('dest_c', 'dest_i', 'dest_g', 'dest_h', 'dest_e', 'dest_k', 'dest_n', 'dest_l', 'dest_d', 'dest_m', 'dest_a', 'dest_b', 'dest_j', 'dest_o', 'dest_f')\n",
      "\n",
      "Generation 70 best: 1106 | Unique solutions: 100\n",
      "('dest_c', 'dest_i', 'dest_g', 'dest_h', 'dest_e', 'dest_k', 'dest_n', 'dest_l', 'dest_d', 'dest_m', 'dest_a', 'dest_b', 'dest_j', 'dest_o', 'dest_f')\n",
      "\n",
      "Generation 80 best: 1010 | Unique solutions: 100\n",
      "('dest_c', 'dest_i', 'dest_k', 'dest_h', 'dest_e', 'dest_g', 'dest_n', 'dest_b', 'dest_l', 'dest_o', 'dest_a', 'dest_d', 'dest_m', 'dest_f', 'dest_j')\n",
      "\n",
      "Generation 90 best: 1010 | Unique solutions: 100\n",
      "('dest_c', 'dest_i', 'dest_k', 'dest_h', 'dest_e', 'dest_g', 'dest_n', 'dest_b', 'dest_l', 'dest_o', 'dest_a', 'dest_d', 'dest_m', 'dest_f', 'dest_j')\n",
      "\n",
      "Generation 99 best: 1010 | Unique solutions: 100\n",
      "('dest_c', 'dest_i', 'dest_k', 'dest_h', 'dest_e', 'dest_g', 'dest_n', 'dest_b', 'dest_l', 'dest_o', 'dest_a', 'dest_d', 'dest_m', 'dest_f', 'dest_j')\n",
      "\n"
     ]
    }
   ],
   "source": [
    "run(100, 100)"
   ]
  },
  {
   "cell_type": "code",
   "execution_count": null,
   "metadata": {},
   "outputs": [],
   "source": []
  }
 ],
 "metadata": {
  "kernelspec": {
   "display_name": "Python 3",
   "language": "python",
   "name": "python3"
  },
  "language_info": {
   "codemirror_mode": {
    "name": "ipython",
    "version": 3
   },
   "file_extension": ".py",
   "mimetype": "text/x-python",
   "name": "python",
   "nbconvert_exporter": "python",
   "pygments_lexer": "ipython3",
   "version": "3.7.2"
  }
 },
 "nbformat": 4,
 "nbformat_minor": 2
}
