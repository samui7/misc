{
 "cells": [
  {
   "cell_type": "code",
   "execution_count": 3,
   "metadata": {},
   "outputs": [],
   "source": [
    "from bs4 import BeautifulSoup\n",
    "import requests\n",
    "from selenium import webdriver"
   ]
  },
  {
   "cell_type": "code",
   "execution_count": 8,
   "metadata": {},
   "outputs": [],
   "source": [
    "hand = \"7m1277p347s14567z6p\"\n",
    "url = \"https://tenhou.net/2/?q=\" + hand"
   ]
  },
  {
   "cell_type": "code",
   "execution_count": 9,
   "metadata": {},
   "outputs": [
    {
     "name": "stdout",
     "output_type": "stream",
     "text": [
      "7m1277p347s14567z6p\n",
      "打1z 摸[5m6m7m8m9m1p2p3p4p5p6p7p8p9p2s3s4s5s6s7s8s9s4z5z6z7z 91枚]\n",
      "打4z 摸[5m6m7m8m9m1p2p3p4p5p6p7p8p9p2s3s4s5s6s7s8s9s1z5z6z7z 91枚]\n",
      "打5z 摸[5m6m7m8m9m1p2p3p4p5p6p7p8p9p2s3s4s5s6s7s8s9s1z4z6z7z 91枚]\n",
      "打6z 摸[5m6m7m8m9m1p2p3p4p5p6p7p8p9p2s3s4s5s6s7s8s9s1z4z5z7z 91枚]\n",
      "打7z 摸[5m6m7m8m9m1p2p3p4p5p6p7p8p9p2s3s4s5s6s7s8s9s1z4z5z6z 91枚]\n",
      "打7s 摸[5m6m7m8m9m1p2p3p4p5p6p7p8p9p2s3s4s5s1z4z5z6z7z 79枚]\n",
      "打7m 摸[1p2p3p4p5p6p7p8p9p2s3s4s5s6s7s8s9s1z4z5z6z7z 75枚]\n",
      "打6p 摸[5m6m7m8m9m1p2p3p7p2s3s4s5s6s7s8s9s1z4z5z6z7z 75枚]\n",
      "打7p 摸[5m6m7m8m9m3p5p8p2s5s6s7s8s9s1z4z5z6z7z 69枚]\n",
      "打1p 摸[7m2p6p3s4s7s1z4z5z6z7z 33枚]\n",
      "打2p 摸[7m1p6p3s4s7s1z4z5z6z7z 33枚]\n",
      "打3s 摸[7m1p2p6p4s7s1z4z5z6z7z 33枚]\n",
      "打4s 摸[7m1p2p6p3s7s1z4z5z6z7z 33枚]\n"
     ]
    }
   ],
   "source": [
    "driver = webdriver.PhantomJS()\n",
    "driver.get(url)\n",
    "p_element = driver.find_element_by_tag_name('textarea')\n",
    "print(p_element.text)"
   ]
  },
  {
   "cell_type": "code",
   "execution_count": null,
   "metadata": {},
   "outputs": [],
   "source": []
  }
 ],
 "metadata": {
  "kernelspec": {
   "display_name": "Python 3",
   "language": "python",
   "name": "python3"
  },
  "language_info": {
   "codemirror_mode": {
    "name": "ipython",
    "version": 3
   },
   "file_extension": ".py",
   "mimetype": "text/x-python",
   "name": "python",
   "nbconvert_exporter": "python",
   "pygments_lexer": "ipython3",
   "version": "3.7.2"
  }
 },
 "nbformat": 4,
 "nbformat_minor": 2
}
